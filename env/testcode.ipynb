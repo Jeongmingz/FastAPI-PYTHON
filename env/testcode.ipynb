{
 "cells": [
  {
   "cell_type": "code",
   "execution_count": 1,
   "metadata": {},
   "outputs": [],
   "source": [
    "fake_items_detail = {0: {\"item_id\": 0, \"item_name\": \"Coffee\", \"item_price\": 2000, \"item_sort\": \"Drink\"},\n",
    "                     1: {\"item_id\": 1, \"item_name\": \"Water\", \"item_price\": 950, \"item_sort\": \"Drink\"},\n",
    "                     2: {\"item_id\": 2, \"item_name\": \"Book\", \"item_price\": 12000, \"item_sort\": \"Object\"}}\n",
    "fake_items_detail_list = list(fake_items_detail.values())"
   ]
  },
  {
   "cell_type": "code",
   "execution_count": 6,
   "metadata": {},
   "outputs": [
    {
     "name": "stdout",
     "output_type": "stream",
     "text": [
      "[{'item_id': 0, 'item_name': 'Coffee', 'item_price': 2000, 'item_sort': 'Drink'}, {'item_id': 1, 'item_name': 'Water', 'item_price': 950, 'item_sort': 'Drink'}]\n"
     ]
    }
   ],
   "source": [
    "print([item for item in fake_items_detail_list if item['item_sort'] == \"Drink\"])"
   ]
  },
  {
   "cell_type": "code",
   "execution_count": null,
   "metadata": {},
   "outputs": [],
   "source": []
  }
 ],
 "metadata": {
  "kernelspec": {
   "display_name": "Python 3.9.13 ('tf')",
   "language": "python",
   "name": "python3"
  },
  "language_info": {
   "codemirror_mode": {
    "name": "ipython",
    "version": 3
   },
   "file_extension": ".py",
   "mimetype": "text/x-python",
   "name": "python",
   "nbconvert_exporter": "python",
   "pygments_lexer": "ipython3",
   "version": "3.9.13"
  },
  "orig_nbformat": 4,
  "vscode": {
   "interpreter": {
    "hash": "dc1b947dce198ff7f2d2cb152b2cbb61132fce4429fa808fd5b89ac4d7df39fa"
   }
  }
 },
 "nbformat": 4,
 "nbformat_minor": 2
}
